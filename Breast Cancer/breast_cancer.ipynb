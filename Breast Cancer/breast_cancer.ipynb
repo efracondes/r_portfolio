{
 "cells": [
  {
   "cell_type": "markdown",
   "metadata": {},
   "source": [
    "# Breast Cancer \n",
    "\n",
    "Introduction"
   ]
  },
  {
   "cell_type": "markdown",
   "metadata": {},
   "source": [
    "## 1. Data\n",
    "\n",
    "Data description\n",
    "\n",
    "First of all, let's load the data into a DataFrame and print the first five rows so we can take a look at it.\n"
   ]
  },
  {
   "cell_type": "code",
   "execution_count": 39,
   "metadata": {},
   "outputs": [],
   "source": [
    "library(dplyr)\n",
    "library(tidyr)\n",
    "set.seed(182) \n",
    "library(e1071)\n",
    "library(ggplot2)"
   ]
  },
  {
   "cell_type": "code",
   "execution_count": 2,
   "metadata": {},
   "outputs": [
    {
     "data": {
      "text/html": [
       "<table>\n",
       "<caption>A data.frame: 5 × 11</caption>\n",
       "<thead>\n",
       "\t<tr><th></th><th scope=col>sample_id</th><th scope=col>Clump_Thickness</th><th scope=col>Uniformity_of_Cell.Size</th><th scope=col>Uniformity_of_Cell_Shape</th><th scope=col>Marginal_Adhesion</th><th scope=col>Single_Epithelial_Cell_Size</th><th scope=col>Bare_Nuclei</th><th scope=col>Bland_Chromatin</th><th scope=col>Normal_Nucleoli</th><th scope=col>Mitoses</th><th scope=col>Class</th></tr>\n",
       "\t<tr><th></th><th scope=col>&lt;int&gt;</th><th scope=col>&lt;int&gt;</th><th scope=col>&lt;int&gt;</th><th scope=col>&lt;int&gt;</th><th scope=col>&lt;int&gt;</th><th scope=col>&lt;int&gt;</th><th scope=col>&lt;chr&gt;</th><th scope=col>&lt;int&gt;</th><th scope=col>&lt;int&gt;</th><th scope=col>&lt;int&gt;</th><th scope=col>&lt;int&gt;</th></tr>\n",
       "</thead>\n",
       "<tbody>\n",
       "\t<tr><th scope=row>1</th><td>1002945</td><td>5</td><td> 4</td><td> 4</td><td>5</td><td>7</td><td>10</td><td>3</td><td>2</td><td>1</td><td>2</td></tr>\n",
       "\t<tr><th scope=row>2</th><td>1015425</td><td>3</td><td> 1</td><td> 1</td><td>1</td><td>2</td><td>2 </td><td>3</td><td>1</td><td>1</td><td>2</td></tr>\n",
       "\t<tr><th scope=row>3</th><td>1016277</td><td>6</td><td> 8</td><td> 8</td><td>1</td><td>3</td><td>4 </td><td>3</td><td>7</td><td>1</td><td>2</td></tr>\n",
       "\t<tr><th scope=row>4</th><td>1017023</td><td>4</td><td> 1</td><td> 1</td><td>3</td><td>2</td><td>1 </td><td>3</td><td>1</td><td>1</td><td>2</td></tr>\n",
       "\t<tr><th scope=row>5</th><td>1017122</td><td>8</td><td>10</td><td>10</td><td>8</td><td>7</td><td>10</td><td>9</td><td>7</td><td>1</td><td>4</td></tr>\n",
       "</tbody>\n",
       "</table>\n"
      ],
      "text/latex": [
       "A data.frame: 5 × 11\n",
       "\\begin{tabular}{r|lllllllllll}\n",
       "  & sample\\_id & Clump\\_Thickness & Uniformity\\_of\\_Cell.Size & Uniformity\\_of\\_Cell\\_Shape & Marginal\\_Adhesion & Single\\_Epithelial\\_Cell\\_Size & Bare\\_Nuclei & Bland\\_Chromatin & Normal\\_Nucleoli & Mitoses & Class\\\\\n",
       "  & <int> & <int> & <int> & <int> & <int> & <int> & <chr> & <int> & <int> & <int> & <int>\\\\\n",
       "\\hline\n",
       "\t1 & 1002945 & 5 &  4 &  4 & 5 & 7 & 10 & 3 & 2 & 1 & 2\\\\\n",
       "\t2 & 1015425 & 3 &  1 &  1 & 1 & 2 & 2  & 3 & 1 & 1 & 2\\\\\n",
       "\t3 & 1016277 & 6 &  8 &  8 & 1 & 3 & 4  & 3 & 7 & 1 & 2\\\\\n",
       "\t4 & 1017023 & 4 &  1 &  1 & 3 & 2 & 1  & 3 & 1 & 1 & 2\\\\\n",
       "\t5 & 1017122 & 8 & 10 & 10 & 8 & 7 & 10 & 9 & 7 & 1 & 4\\\\\n",
       "\\end{tabular}\n"
      ],
      "text/markdown": [
       "\n",
       "A data.frame: 5 × 11\n",
       "\n",
       "| <!--/--> | sample_id &lt;int&gt; | Clump_Thickness &lt;int&gt; | Uniformity_of_Cell.Size &lt;int&gt; | Uniformity_of_Cell_Shape &lt;int&gt; | Marginal_Adhesion &lt;int&gt; | Single_Epithelial_Cell_Size &lt;int&gt; | Bare_Nuclei &lt;chr&gt; | Bland_Chromatin &lt;int&gt; | Normal_Nucleoli &lt;int&gt; | Mitoses &lt;int&gt; | Class &lt;int&gt; |\n",
       "|---|---|---|---|---|---|---|---|---|---|---|---|\n",
       "| 1 | 1002945 | 5 |  4 |  4 | 5 | 7 | 10 | 3 | 2 | 1 | 2 |\n",
       "| 2 | 1015425 | 3 |  1 |  1 | 1 | 2 | 2  | 3 | 1 | 1 | 2 |\n",
       "| 3 | 1016277 | 6 |  8 |  8 | 1 | 3 | 4  | 3 | 7 | 1 | 2 |\n",
       "| 4 | 1017023 | 4 |  1 |  1 | 3 | 2 | 1  | 3 | 1 | 1 | 2 |\n",
       "| 5 | 1017122 | 8 | 10 | 10 | 8 | 7 | 10 | 9 | 7 | 1 | 4 |\n",
       "\n"
      ],
      "text/plain": [
       "  sample_id Clump_Thickness Uniformity_of_Cell.Size Uniformity_of_Cell_Shape\n",
       "1 1002945   5                4                       4                      \n",
       "2 1015425   3                1                       1                      \n",
       "3 1016277   6                8                       8                      \n",
       "4 1017023   4                1                       1                      \n",
       "5 1017122   8               10                      10                      \n",
       "  Marginal_Adhesion Single_Epithelial_Cell_Size Bare_Nuclei Bland_Chromatin\n",
       "1 5                 7                           10          3              \n",
       "2 1                 2                           2           3              \n",
       "3 1                 3                           4           3              \n",
       "4 3                 2                           1           3              \n",
       "5 8                 7                           10          9              \n",
       "  Normal_Nucleoli Mitoses Class\n",
       "1 2               1       2    \n",
       "2 1               1       2    \n",
       "3 7               1       2    \n",
       "4 1               1       2    \n",
       "5 7               1       4    "
      ]
     },
     "metadata": {},
     "output_type": "display_data"
    }
   ],
   "source": [
    "attribute_names <- c('sample_id', \n",
    "                     'Clump_Thickness', \n",
    "                     'Uniformity_of_Cell Size', \n",
    "                     'Uniformity_of_Cell_Shape', \n",
    "                     'Marginal_Adhesion', \n",
    "                     'Single_Epithelial_Cell_Size', \n",
    "                     'Bare_Nuclei',\n",
    "                     'Bland_Chromatin',\n",
    "                     'Normal_Nucleoli',\n",
    "                     'Mitoses',\n",
    "                     'Class')  \n",
    "\n",
    "cancer_data <- read.csv('breast_cancer.csv', col.names = attribute_names)\n",
    "head(cancer_data, 5)"
   ]
  },
  {
   "cell_type": "markdown",
   "metadata": {},
   "source": [
    "### 1.1 Cleaning the Data\n",
    "\n",
    "Before trying to apply any ML algorithm or mathematical artifact, we must clean the data. The data description tells us that the missing values in the dataset are indicated with the character '?'. "
   ]
  },
  {
   "cell_type": "code",
   "execution_count": 3,
   "metadata": {},
   "outputs": [
    {
     "data": {
      "text/html": [
       "<style>\n",
       ".list-inline {list-style: none; margin:0; padding: 0}\n",
       ".list-inline>li {display: inline-block}\n",
       ".list-inline>li:not(:last-child)::after {content: \"\\00b7\"; padding: 0 .5ex}\n",
       "</style>\n",
       "<ol class=list-inline><li>'?'</li><li>'?'</li><li>'?'</li><li>'?'</li><li>'?'</li><li>'?'</li><li>'?'</li><li>'?'</li><li>'?'</li><li>'?'</li><li>'?'</li><li>'?'</li><li>'?'</li><li>'?'</li><li>'?'</li><li>'?'</li></ol>\n"
      ],
      "text/latex": [
       "\\begin{enumerate*}\n",
       "\\item '?'\n",
       "\\item '?'\n",
       "\\item '?'\n",
       "\\item '?'\n",
       "\\item '?'\n",
       "\\item '?'\n",
       "\\item '?'\n",
       "\\item '?'\n",
       "\\item '?'\n",
       "\\item '?'\n",
       "\\item '?'\n",
       "\\item '?'\n",
       "\\item '?'\n",
       "\\item '?'\n",
       "\\item '?'\n",
       "\\item '?'\n",
       "\\end{enumerate*}\n"
      ],
      "text/markdown": [
       "1. '?'\n",
       "2. '?'\n",
       "3. '?'\n",
       "4. '?'\n",
       "5. '?'\n",
       "6. '?'\n",
       "7. '?'\n",
       "8. '?'\n",
       "9. '?'\n",
       "10. '?'\n",
       "11. '?'\n",
       "12. '?'\n",
       "13. '?'\n",
       "14. '?'\n",
       "15. '?'\n",
       "16. '?'\n",
       "\n",
       "\n"
      ],
      "text/plain": [
       " [1] \"?\" \"?\" \"?\" \"?\" \"?\" \"?\" \"?\" \"?\" \"?\" \"?\" \"?\" \"?\" \"?\" \"?\" \"?\" \"?\""
      ]
     },
     "metadata": {},
     "output_type": "display_data"
    }
   ],
   "source": [
    "missing_val_spots <- cancer_data == '?'\n",
    "cancer_data[missing_val_spots]"
   ]
  },
  {
   "cell_type": "markdown",
   "metadata": {},
   "source": [
    "As we can see, there are 16 missing values. In the book The Data Science Design Manual page 77, Skiena provides several method to deal with missing values, from these options we'll just pick one. \n",
    "\n",
    "The method that we'll follow consist in replacing the missing values by the mean value of the attribute to which it belongs. So, let's apply this process to the missing values in every column.   "
   ]
  },
  {
   "cell_type": "code",
   "execution_count": 4,
   "metadata": {},
   "outputs": [],
   "source": [
    "for (col in 1:ncol(cancer_data)){\n",
    "    if ('?' %in% cancer_data[, col]){\n",
    "        # We apply the round function because all values must be integers\n",
    "        mean_value <- round(mean(as.numeric(cancer_data[cancer_data[col] != '?', col])))    \n",
    "        cancer_data[cancer_data[col] == '?', col] <- mean_value\n",
    "        # Converts the column values into numerics\n",
    "        cancer_data[, col] <- as.numeric(cancer_data[, col])\n",
    "    }    \n",
    "}"
   ]
  },
  {
   "cell_type": "code",
   "execution_count": 5,
   "metadata": {},
   "outputs": [
    {
     "data": {
      "text/html": [
       "<style>\n",
       ".list-inline {list-style: none; margin:0; padding: 0}\n",
       ".list-inline>li {display: inline-block}\n",
       ".list-inline>li:not(:last-child)::after {content: \"\\00b7\"; padding: 0 .5ex}\n",
       "</style>\n",
       "<ol class=list-inline><li>4</li><li>4</li><li>4</li><li>4</li><li>4</li><li>4</li><li>4</li><li>4</li><li>4</li><li>4</li><li>4</li><li>4</li><li>4</li><li>4</li><li>4</li><li>4</li></ol>\n"
      ],
      "text/latex": [
       "\\begin{enumerate*}\n",
       "\\item 4\n",
       "\\item 4\n",
       "\\item 4\n",
       "\\item 4\n",
       "\\item 4\n",
       "\\item 4\n",
       "\\item 4\n",
       "\\item 4\n",
       "\\item 4\n",
       "\\item 4\n",
       "\\item 4\n",
       "\\item 4\n",
       "\\item 4\n",
       "\\item 4\n",
       "\\item 4\n",
       "\\item 4\n",
       "\\end{enumerate*}\n"
      ],
      "text/markdown": [
       "1. 4\n",
       "2. 4\n",
       "3. 4\n",
       "4. 4\n",
       "5. 4\n",
       "6. 4\n",
       "7. 4\n",
       "8. 4\n",
       "9. 4\n",
       "10. 4\n",
       "11. 4\n",
       "12. 4\n",
       "13. 4\n",
       "14. 4\n",
       "15. 4\n",
       "16. 4\n",
       "\n",
       "\n"
      ],
      "text/plain": [
       " [1] 4 4 4 4 4 4 4 4 4 4 4 4 4 4 4 4"
      ]
     },
     "metadata": {},
     "output_type": "display_data"
    }
   ],
   "source": [
    "cancer_data[missing_val_spots]"
   ]
  },
  {
   "cell_type": "markdown",
   "metadata": {},
   "source": [
    "Notice that the same numeric value replaced all the '?' characters, this may be because all the missing values belonged to the same column. The next step is to split the dataset into the training and testing sets."
   ]
  },
  {
   "cell_type": "code",
   "execution_count": 7,
   "metadata": {},
   "outputs": [],
   "source": [
    "train_size <- floor(nrow(cancer_data) * 0.75)\n",
    "train_indices <- sample(1:nrow(cancer_data), train_size)\n",
    "train_data <- cancer_data[train_indices,]\n",
    "test_data <- cancer_data[-train_indices,]\n",
    "\n",
    "X_train <- select(train_data, -Class)\n",
    "Y_train <- select(train_data, Class)\n",
    "X_test <- select(test_data, -Class)\n",
    "Y_test <- select(test_data, Class)"
   ]
  },
  {
   "cell_type": "markdown",
   "metadata": {},
   "source": [
    "Now that the data is clean we can continue to apply some ML algorithms."
   ]
  },
  {
   "cell_type": "markdown",
   "metadata": {},
   "source": [
    "## 2. Naive Bayes Classifier\n",
    "\n"
   ]
  },
  {
   "cell_type": "code",
   "execution_count": 12,
   "metadata": {},
   "outputs": [],
   "source": [
    "nb_model <- naiveBayes(Class ~., train_data)"
   ]
  },
  {
   "cell_type": "code",
   "execution_count": 15,
   "metadata": {},
   "outputs": [
    {
     "data": {
      "text/html": [
       "\n",
       "<details>\n",
       "\t<summary style=display:list-item;cursor:pointer>\n",
       "\t\t<strong>Levels</strong>:\n",
       "\t</summary>\n",
       "\t\n",
       "</details>"
      ],
      "text/latex": [
       "\n",
       "\\emph{Levels}: "
      ],
      "text/markdown": [
       "\n",
       "**Levels**: "
      ],
      "text/plain": [
       "factor(0)\n",
       "Levels: "
      ]
     },
     "metadata": {},
     "output_type": "display_data"
    }
   ],
   "source": [
    "predict(nb_model, X_train)"
   ]
  },
  {
   "cell_type": "code",
   "execution_count": 16,
   "metadata": {},
   "outputs": [
    {
     "name": "stderr",
     "output_type": "stream",
     "text": [
      "also installing the dependencies ‘colorspace’, ‘farver’, ‘labeling’, ‘munsell’, ‘RColorBrewer’, ‘viridisLite’, ‘rematch’, ‘tinytex’, ‘DBI’, ‘blob’, ‘gtable’, ‘isoband’, ‘scales’, ‘cellranger’, ‘progress’, ‘rmarkdown’, ‘selectr’, ‘broom’, ‘dbplyr’, ‘forcats’, ‘ggplot2’, ‘haven’, ‘hms’, ‘lubridate’, ‘modelr’, ‘readr’, ‘readxl’, ‘reprex’, ‘rvest’, ‘tidyr’\n",
      "\n",
      "\n"
     ]
    },
    {
     "name": "stdout",
     "output_type": "stream",
     "text": [
      "\n",
      "  There is a binary version available but the source version is later:\n",
      "      binary source needs_compilation\n",
      "broom  0.5.6  0.7.0             FALSE\n",
      "\n",
      "\n",
      "The downloaded binary packages are in\n",
      "\t/var/folders/cd/m63ntwzx2vj_h6cg2qfkvt480000gn/T//Rtmpg7c1uO/downloaded_packages\n"
     ]
    },
    {
     "name": "stderr",
     "output_type": "stream",
     "text": [
      "installing the source package ‘broom’\n",
      "\n",
      "\n"
     ]
    }
   ],
   "source": [
    "install.packages(\"tidyverse\")"
   ]
  },
  {
   "cell_type": "code",
   "execution_count": 35,
   "metadata": {},
   "outputs": [
    {
     "name": "stderr",
     "output_type": "stream",
     "text": [
      "ERROR while rich displaying an object: Error: geom_text requires the following missing aesthetics: y\n",
      "\n",
      "Traceback:\n",
      "1. FUN(X[[i]], ...)\n",
      "2. tryCatch(withCallingHandlers({\n",
      " .     if (!mime %in% names(repr::mime2repr)) \n",
      " .         stop(\"No repr_* for mimetype \", mime, \" in repr::mime2repr\")\n",
      " .     rpr <- repr::mime2repr[[mime]](obj)\n",
      " .     if (is.null(rpr)) \n",
      " .         return(NULL)\n",
      " .     prepare_content(is.raw(rpr), rpr)\n",
      " . }, error = error_handler), error = outer_handler)\n",
      "3. tryCatchList(expr, classes, parentenv, handlers)\n",
      "4. tryCatchOne(expr, names, parentenv, handlers[[1L]])\n",
      "5. doTryCatch(return(expr), name, parentenv, handler)\n",
      "6. withCallingHandlers({\n",
      " .     if (!mime %in% names(repr::mime2repr)) \n",
      " .         stop(\"No repr_* for mimetype \", mime, \" in repr::mime2repr\")\n",
      " .     rpr <- repr::mime2repr[[mime]](obj)\n",
      " .     if (is.null(rpr)) \n",
      " .         return(NULL)\n",
      " .     prepare_content(is.raw(rpr), rpr)\n",
      " . }, error = error_handler)\n",
      "7. repr::mime2repr[[mime]](obj)\n",
      "8. repr_text.default(obj)\n",
      "9. paste(capture.output(print(obj)), collapse = \"\\n\")\n",
      "10. capture.output(print(obj))\n",
      "11. evalVis(expr)\n",
      "12. withVisible(eval(expr, pf))\n",
      "13. eval(expr, pf)\n",
      "14. eval(expr, pf)\n",
      "15. print(obj)\n",
      "16. print.ggplot(obj)\n",
      "17. ggplot_build(x)\n",
      "18. ggplot_build.ggplot(x)\n",
      "19. by_layer(function(l, d) l$compute_geom_1(d))\n",
      "20. f(l = layers[[i]], d = data[[i]])\n",
      "21. l$compute_geom_1(d)\n",
      "22. f(..., self = self)\n",
      "23. check_required_aesthetics(self$geom$required_aes, c(names(data), \n",
      "  .     names(self$aes_params)), snake_class(self$geom))\n",
      "24. abort(glue(\"{name} requires the following missing aesthetics: \", \n",
      "  .     glue_collapse(lapply(missing_aes, glue_collapse, sep = \", \", \n",
      "  .         last = \" and \"), sep = \" or \")))\n",
      "25. signal_abort(cnd)\n"
     ]
    },
    {
     "data": {
      "image/png": "[encoded data removed]",
      "text/plain": [
       "plot without title"
      ]
     },
     "metadata": {
      "image/png": {
       "height": 420,
       "width": 420
      }
     },
     "output_type": "display_data"
    }
   ],
   "source": [
    "g <- ggplot(cancer_data, aes(Class))\n",
    "# Number of cars in each class:\n",
    "g + \n",
    "geom_bar(color = 'blue', fill = 'blue') +\n",
    "geom_text(aes(label= Class))"
   ]
  },
  {
   "cell_type": "code",
   "execution_count": null,
   "metadata": {},
   "outputs": [],
   "source": [
    "p<-ggplot(df, aes(x=dose, y=len, fill=dose)) +\n",
    "  geom_bar(stat=\"identity\")+theme_minimal()"
   ]
  },
  {
   "cell_type": "code",
   "execution_count": 37,
   "metadata": {},
   "outputs": [
    {
     "name": "stdout",
     "output_type": "stream",
     "text": [
      "\n",
      "The downloaded binary packages are in\n",
      "\t/var/folders/cd/m63ntwzx2vj_h6cg2qfkvt480000gn/T//Rtmpg7c1uO/downloaded_packages\n"
     ]
    }
   ],
   "source": [
    "install.packages('tidyr')"
   ]
  },
  {
   "cell_type": "markdown",
   "metadata": {},
   "source": []
  },
  {
   "cell_type": "markdown",
   "metadata": {},
   "source": [
    "### Plots\n"
   ]
  },
  {
   "cell_type": "code",
   "execution_count": 52,
   "metadata": {},
   "outputs": [
    {
     "data": {
      "text/html": [
       "<table>\n",
       "<caption>A data.frame: 2 × 2</caption>\n",
       "<thead>\n",
       "\t<tr><th scope=col>classes</th><th scope=col>cases</th></tr>\n",
       "\t<tr><th scope=col>&lt;chr&gt;</th><th scope=col>&lt;int&gt;</th></tr>\n",
       "</thead>\n",
       "<tbody>\n",
       "\t<tr><td>cancer    </td><td>457</td></tr>\n",
       "\t<tr><td>not_cancer</td><td>241</td></tr>\n",
       "</tbody>\n",
       "</table>\n"
      ],
      "text/latex": [
       "A data.frame: 2 × 2\n",
       "\\begin{tabular}{ll}\n",
       " classes & cases\\\\\n",
       " <chr> & <int>\\\\\n",
       "\\hline\n",
       "\t cancer     & 457\\\\\n",
       "\t not\\_cancer & 241\\\\\n",
       "\\end{tabular}\n"
      ],
      "text/markdown": [
       "\n",
       "A data.frame: 2 × 2\n",
       "\n",
       "| classes &lt;chr&gt; | cases &lt;int&gt; |\n",
       "|---|---|\n",
       "| cancer     | 457 |\n",
       "| not_cancer | 241 |\n",
       "\n"
      ],
      "text/plain": [
       "  classes    cases\n",
       "1 cancer     457  \n",
       "2 not_cancer 241  "
      ]
     },
     "metadata": {},
     "output_type": "display_data"
    }
   ],
   "source": [
    "cancer_cases <- nrow(cancer_data[cancer_data['Class'] == 2,])\n",
    "not_cancer_cases <- nrow(cancer_data[cancer_data['Class'] == 4,])\n",
    "\n",
    "classes <- c('cancer', 'not_cancer')\n",
    "cases <- c(cancer_cases, not_cancer_cases)\n",
    "\n",
    "class_dist <- data.frame(classes, cases)\n",
    "class_dist"
   ]
  },
  {
   "cell_type": "code",
   "execution_count": 64,
   "metadata": {},
   "outputs": [
    {
     "data": {
      "image/png": "[encoded data removed]",
      "text/plain": [
       "plot without title"
      ]
     },
     "metadata": {
      "image/png": {
       "height": 420,
       "width": 420
      }
     },
     "output_type": "display_data"
    }
   ],
   "source": [
    "class_dist_plot <- ggplot(class_dist, aes(x=classes, y=cases, fill=classes)) +\n",
    "                geom_bar(stat=\"identity\") +\n",
    "                xlab('Class')+ ylab('Cases') + ggtitle('Cancer Cases')\n",
    "class_dist_plot"
   ]
  },
  {
   "cell_type": "code",
   "execution_count": null,
   "metadata": {},
   "outputs": [],
   "source": []
  },
  {
   "cell_type": "code",
   "execution_count": null,
   "metadata": {},
   "outputs": [],
   "source": []
  },
  {
   "cell_type": "code",
   "execution_count": null,
   "metadata": {},
   "outputs": [],
   "source": []
  },
  {
   "cell_type": "code",
   "execution_count": null,
   "metadata": {},
   "outputs": [],
   "source": []
  }
 ],
 "metadata": {
  "kernelspec": {
   "display_name": "R",
   "language": "R",
   "name": "ir"
  },
  "language_info": {
   "codemirror_mode": "r",
   "file_extension": ".r",
   "mimetype": "text/x-r-source",
   "name": "R",
   "pygments_lexer": "r",
   "version": "4.0.0"
  }
 },
 "nbformat": 4,
 "nbformat_minor": 4
}
