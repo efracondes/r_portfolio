{
 "cells": [
  {
   "cell_type": "markdown",
   "metadata": {},
   "source": [
    "# Breast Cancer \n",
    "\n",
    "Introduction"
   ]
  },
  {
   "cell_type": "markdown",
   "metadata": {},
   "source": [
    "## 1. Data\n",
    "\n",
    "Data description\n",
    "\n",
    "First of all, let's load the data into a DataFrame and print the first five rows so we can take a look at it.\n"
   ]
  },
  {
   "cell_type": "code",
   "execution_count": 17,
   "metadata": {},
   "outputs": [
    {
     "name": "stderr",
     "output_type": "stream",
     "text": [
      "Warning message:\n",
      "“package ‘dplyr’ was built under R version 4.0.1”\n"
     ]
    },
    {
     "ename": "ERROR",
     "evalue": "Error: package or namespace load failed for ‘dplyr’ in loadNamespace(i, c(lib.loc, .libPaths()), versionCheck = vI[[i]]):\n namespace ‘rlang’ 0.4.5 is already loaded, but >= 0.4.6 is required\n",
     "output_type": "error",
     "traceback": [
      "Error: package or namespace load failed for ‘dplyr’ in loadNamespace(i, c(lib.loc, .libPaths()), versionCheck = vI[[i]]):\n namespace ‘rlang’ 0.4.5 is already loaded, but >= 0.4.6 is required\nTraceback:\n",
      "1. library(dplyr)",
      "2. tryCatch({\n .     attr(package, \"LibPath\") <- which.lib.loc\n .     ns <- loadNamespace(package, lib.loc)\n .     env <- attachNamespace(ns, pos = pos, deps, exclude, include.only)\n . }, error = function(e) {\n .     P <- if (!is.null(cc <- conditionCall(e))) \n .         paste(\" in\", deparse(cc)[1L])\n .     else \"\"\n .     msg <- gettextf(\"package or namespace load failed for %s%s:\\n %s\", \n .         sQuote(package), P, conditionMessage(e))\n .     if (logical.return) \n .         message(paste(\"Error:\", msg), domain = NA)\n .     else stop(msg, call. = FALSE, domain = NA)\n . })",
      "3. tryCatchList(expr, classes, parentenv, handlers)",
      "4. tryCatchOne(expr, names, parentenv, handlers[[1L]])",
      "5. value[[3L]](cond)",
      "6. stop(msg, call. = FALSE, domain = NA)"
     ]
    }
   ],
   "source": [
    "library(dplyr)"
   ]
  },
  {
   "cell_type": "code",
   "execution_count": 13,
   "metadata": {},
   "outputs": [
    {
     "data": {
      "text/html": [
       "<table>\n",
       "<caption>A data.frame: 5 × 11</caption>\n",
       "<thead>\n",
       "\t<tr><th></th><th scope=col>sample_id</th><th scope=col>Clump_Thickness</th><th scope=col>Uniformity_of_Cell.Size</th><th scope=col>Uniformity_of_Cell_Shape</th><th scope=col>Marginal_Adhesion</th><th scope=col>Single_Epithelial_Cell_Size</th><th scope=col>Bare_Nuclei</th><th scope=col>Bland_Chromatin</th><th scope=col>Normal_Nucleoli</th><th scope=col>Mitoses</th><th scope=col>Class</th></tr>\n",
       "\t<tr><th></th><th scope=col>&lt;int&gt;</th><th scope=col>&lt;int&gt;</th><th scope=col>&lt;int&gt;</th><th scope=col>&lt;int&gt;</th><th scope=col>&lt;int&gt;</th><th scope=col>&lt;int&gt;</th><th scope=col>&lt;chr&gt;</th><th scope=col>&lt;int&gt;</th><th scope=col>&lt;int&gt;</th><th scope=col>&lt;int&gt;</th><th scope=col>&lt;int&gt;</th></tr>\n",
       "</thead>\n",
       "<tbody>\n",
       "\t<tr><th scope=row>1</th><td>1002945</td><td>5</td><td> 4</td><td> 4</td><td>5</td><td>7</td><td>10</td><td>3</td><td>2</td><td>1</td><td>2</td></tr>\n",
       "\t<tr><th scope=row>2</th><td>1015425</td><td>3</td><td> 1</td><td> 1</td><td>1</td><td>2</td><td>2 </td><td>3</td><td>1</td><td>1</td><td>2</td></tr>\n",
       "\t<tr><th scope=row>3</th><td>1016277</td><td>6</td><td> 8</td><td> 8</td><td>1</td><td>3</td><td>4 </td><td>3</td><td>7</td><td>1</td><td>2</td></tr>\n",
       "\t<tr><th scope=row>4</th><td>1017023</td><td>4</td><td> 1</td><td> 1</td><td>3</td><td>2</td><td>1 </td><td>3</td><td>1</td><td>1</td><td>2</td></tr>\n",
       "\t<tr><th scope=row>5</th><td>1017122</td><td>8</td><td>10</td><td>10</td><td>8</td><td>7</td><td>10</td><td>9</td><td>7</td><td>1</td><td>4</td></tr>\n",
       "</tbody>\n",
       "</table>\n"
      ],
      "text/latex": [
       "A data.frame: 5 × 11\n",
       "\\begin{tabular}{r|lllllllllll}\n",
       "  & sample\\_id & Clump\\_Thickness & Uniformity\\_of\\_Cell.Size & Uniformity\\_of\\_Cell\\_Shape & Marginal\\_Adhesion & Single\\_Epithelial\\_Cell\\_Size & Bare\\_Nuclei & Bland\\_Chromatin & Normal\\_Nucleoli & Mitoses & Class\\\\\n",
       "  & <int> & <int> & <int> & <int> & <int> & <int> & <chr> & <int> & <int> & <int> & <int>\\\\\n",
       "\\hline\n",
       "\t1 & 1002945 & 5 &  4 &  4 & 5 & 7 & 10 & 3 & 2 & 1 & 2\\\\\n",
       "\t2 & 1015425 & 3 &  1 &  1 & 1 & 2 & 2  & 3 & 1 & 1 & 2\\\\\n",
       "\t3 & 1016277 & 6 &  8 &  8 & 1 & 3 & 4  & 3 & 7 & 1 & 2\\\\\n",
       "\t4 & 1017023 & 4 &  1 &  1 & 3 & 2 & 1  & 3 & 1 & 1 & 2\\\\\n",
       "\t5 & 1017122 & 8 & 10 & 10 & 8 & 7 & 10 & 9 & 7 & 1 & 4\\\\\n",
       "\\end{tabular}\n"
      ],
      "text/markdown": [
       "\n",
       "A data.frame: 5 × 11\n",
       "\n",
       "| <!--/--> | sample_id &lt;int&gt; | Clump_Thickness &lt;int&gt; | Uniformity_of_Cell.Size &lt;int&gt; | Uniformity_of_Cell_Shape &lt;int&gt; | Marginal_Adhesion &lt;int&gt; | Single_Epithelial_Cell_Size &lt;int&gt; | Bare_Nuclei &lt;chr&gt; | Bland_Chromatin &lt;int&gt; | Normal_Nucleoli &lt;int&gt; | Mitoses &lt;int&gt; | Class &lt;int&gt; |\n",
       "|---|---|---|---|---|---|---|---|---|---|---|---|\n",
       "| 1 | 1002945 | 5 |  4 |  4 | 5 | 7 | 10 | 3 | 2 | 1 | 2 |\n",
       "| 2 | 1015425 | 3 |  1 |  1 | 1 | 2 | 2  | 3 | 1 | 1 | 2 |\n",
       "| 3 | 1016277 | 6 |  8 |  8 | 1 | 3 | 4  | 3 | 7 | 1 | 2 |\n",
       "| 4 | 1017023 | 4 |  1 |  1 | 3 | 2 | 1  | 3 | 1 | 1 | 2 |\n",
       "| 5 | 1017122 | 8 | 10 | 10 | 8 | 7 | 10 | 9 | 7 | 1 | 4 |\n",
       "\n"
      ],
      "text/plain": [
       "  sample_id Clump_Thickness Uniformity_of_Cell.Size Uniformity_of_Cell_Shape\n",
       "1 1002945   5                4                       4                      \n",
       "2 1015425   3                1                       1                      \n",
       "3 1016277   6                8                       8                      \n",
       "4 1017023   4                1                       1                      \n",
       "5 1017122   8               10                      10                      \n",
       "  Marginal_Adhesion Single_Epithelial_Cell_Size Bare_Nuclei Bland_Chromatin\n",
       "1 5                 7                           10          3              \n",
       "2 1                 2                           2           3              \n",
       "3 1                 3                           4           3              \n",
       "4 3                 2                           1           3              \n",
       "5 8                 7                           10          9              \n",
       "  Normal_Nucleoli Mitoses Class\n",
       "1 2               1       2    \n",
       "2 1               1       2    \n",
       "3 7               1       2    \n",
       "4 1               1       2    \n",
       "5 7               1       4    "
      ]
     },
     "metadata": {},
     "output_type": "display_data"
    }
   ],
   "source": [
    "attribute_names <- c('sample_id', \n",
    "                     'Clump_Thickness', \n",
    "                     'Uniformity_of_Cell Size', \n",
    "                     'Uniformity_of_Cell_Shape', \n",
    "                     'Marginal_Adhesion', \n",
    "                     'Single_Epithelial_Cell_Size', \n",
    "                     'Bare_Nuclei',\n",
    "                     'Bland_Chromatin',\n",
    "                     'Normal_Nucleoli',\n",
    "                     'Mitoses',\n",
    "                     'Class')  \n",
    "\n",
    "cancer_data <- read.csv('cancer.csv', col.names = attribute_names)\n",
    "head(cancer_data, 5)"
   ]
  },
  {
   "cell_type": "markdown",
   "metadata": {},
   "source": [
    "### 1.1 Cleaning the Data\n",
    "\n",
    "Before trying to apply any ML algorithm or mathematical artifact, we must clean the data. The data description tells us that the missing values in the dataset are indicated with the character '?'. "
   ]
  },
  {
   "cell_type": "code",
   "execution_count": 2,
   "metadata": {},
   "outputs": [
    {
     "data": {
      "text/html": [
       "<style>\n",
       ".list-inline {list-style: none; margin:0; padding: 0}\n",
       ".list-inline>li {display: inline-block}\n",
       ".list-inline>li:not(:last-child)::after {content: \"\\00b7\"; padding: 0 .5ex}\n",
       "</style>\n",
       "<ol class=list-inline><li>'?'</li><li>'?'</li><li>'?'</li><li>'?'</li><li>'?'</li><li>'?'</li><li>'?'</li><li>'?'</li><li>'?'</li><li>'?'</li><li>'?'</li><li>'?'</li><li>'?'</li><li>'?'</li><li>'?'</li><li>'?'</li></ol>\n"
      ],
      "text/latex": [
       "\\begin{enumerate*}\n",
       "\\item '?'\n",
       "\\item '?'\n",
       "\\item '?'\n",
       "\\item '?'\n",
       "\\item '?'\n",
       "\\item '?'\n",
       "\\item '?'\n",
       "\\item '?'\n",
       "\\item '?'\n",
       "\\item '?'\n",
       "\\item '?'\n",
       "\\item '?'\n",
       "\\item '?'\n",
       "\\item '?'\n",
       "\\item '?'\n",
       "\\item '?'\n",
       "\\end{enumerate*}\n"
      ],
      "text/markdown": [
       "1. '?'\n",
       "2. '?'\n",
       "3. '?'\n",
       "4. '?'\n",
       "5. '?'\n",
       "6. '?'\n",
       "7. '?'\n",
       "8. '?'\n",
       "9. '?'\n",
       "10. '?'\n",
       "11. '?'\n",
       "12. '?'\n",
       "13. '?'\n",
       "14. '?'\n",
       "15. '?'\n",
       "16. '?'\n",
       "\n",
       "\n"
      ],
      "text/plain": [
       " [1] \"?\" \"?\" \"?\" \"?\" \"?\" \"?\" \"?\" \"?\" \"?\" \"?\" \"?\" \"?\" \"?\" \"?\" \"?\" \"?\""
      ]
     },
     "metadata": {},
     "output_type": "display_data"
    }
   ],
   "source": [
    "cancer_data[cancer_data == '?']"
   ]
  },
  {
   "cell_type": "markdown",
   "metadata": {},
   "source": [
    "As we can see, there are 16 missing values. In the book The Data Science Design Manual page 77, Skiena provides several method to deal with missing values, from these options we'll just pick one. \n",
    "\n",
    "The method that we'll follow consist in replacing the missing values by the mean value of the attribute to which it belongs. So, let's apply this process to the missing values in every column.   "
   ]
  },
  {
   "cell_type": "code",
   "execution_count": 5,
   "metadata": {},
   "outputs": [],
   "source": [
    "missing_values_spots <- cancer_data == '?'\n",
    "\n",
    "for (col in 1:ncol(cancer_data)){\n",
    "    if ('?' %in% cancer_data[, col]){\n",
    "        cancer_data[cancer_data[col] == '?', col] <- mean(cancer_data[cancer_data[col] != '?', col]z)\n",
    "    } \n",
    "}"
   ]
  },
  {
   "cell_type": "code",
   "execution_count": 4,
   "metadata": {},
   "outputs": [],
   "source": [
    "missing_values_spots <- cancer_data == '?'"
   ]
  },
  {
   "cell_type": "code",
   "execution_count": 5,
   "metadata": {},
   "outputs": [
    {
     "data": {
      "text/html": [
       "<style>\n",
       ".list-inline {list-style: none; margin:0; padding: 0}\n",
       ".list-inline>li {display: inline-block}\n",
       ".list-inline>li:not(:last-child)::after {content: \"\\00b7\"; padding: 0 .5ex}\n",
       "</style>\n",
       "<ol class=list-inline><li>'?'</li><li>'?'</li><li>'?'</li><li>'?'</li><li>'?'</li><li>'?'</li><li>'?'</li><li>'?'</li><li>'?'</li><li>'?'</li><li>'?'</li><li>'?'</li><li>'?'</li><li>'?'</li><li>'?'</li><li>'?'</li></ol>\n"
      ],
      "text/latex": [
       "\\begin{enumerate*}\n",
       "\\item '?'\n",
       "\\item '?'\n",
       "\\item '?'\n",
       "\\item '?'\n",
       "\\item '?'\n",
       "\\item '?'\n",
       "\\item '?'\n",
       "\\item '?'\n",
       "\\item '?'\n",
       "\\item '?'\n",
       "\\item '?'\n",
       "\\item '?'\n",
       "\\item '?'\n",
       "\\item '?'\n",
       "\\item '?'\n",
       "\\item '?'\n",
       "\\end{enumerate*}\n"
      ],
      "text/markdown": [
       "1. '?'\n",
       "2. '?'\n",
       "3. '?'\n",
       "4. '?'\n",
       "5. '?'\n",
       "6. '?'\n",
       "7. '?'\n",
       "8. '?'\n",
       "9. '?'\n",
       "10. '?'\n",
       "11. '?'\n",
       "12. '?'\n",
       "13. '?'\n",
       "14. '?'\n",
       "15. '?'\n",
       "16. '?'\n",
       "\n",
       "\n"
      ],
      "text/plain": [
       " [1] \"?\" \"?\" \"?\" \"?\" \"?\" \"?\" \"?\" \"?\" \"?\" \"?\" \"?\" \"?\" \"?\" \"?\" \"?\" \"?\""
      ]
     },
     "metadata": {},
     "output_type": "display_data"
    }
   ],
   "source": [
    "cancer_data[missing_values_spots]"
   ]
  },
  {
   "cell_type": "code",
   "execution_count": 7,
   "metadata": {},
   "outputs": [
    {
     "name": "stdout",
     "output_type": "stream",
     "text": [
      "[1] 7\n"
     ]
    }
   ],
   "source": [
    "for (col in 1:ncol(cancer_data)){\n",
    "    if ('?' %in% cancer_data[, col]){\n",
    "        print(col)\n",
    "    } \n",
    "}"
   ]
  },
  {
   "cell_type": "code",
   "execution_count": 8,
   "metadata": {},
   "outputs": [
    {
     "data": {
      "text/html": [
       "<style>\n",
       ".list-inline {list-style: none; margin:0; padding: 0}\n",
       ".list-inline>li {display: inline-block}\n",
       ".list-inline>li:not(:last-child)::after {content: \"\\00b7\"; padding: 0 .5ex}\n",
       "</style>\n",
       "<ol class=list-inline><li>'?'</li><li>'?'</li><li>'?'</li><li>'?'</li><li>'?'</li><li>'?'</li><li>'?'</li><li>'?'</li><li>'?'</li><li>'?'</li><li>'?'</li><li>'?'</li><li>'?'</li><li>'?'</li><li>'?'</li><li>'?'</li></ol>\n"
      ],
      "text/latex": [
       "\\begin{enumerate*}\n",
       "\\item '?'\n",
       "\\item '?'\n",
       "\\item '?'\n",
       "\\item '?'\n",
       "\\item '?'\n",
       "\\item '?'\n",
       "\\item '?'\n",
       "\\item '?'\n",
       "\\item '?'\n",
       "\\item '?'\n",
       "\\item '?'\n",
       "\\item '?'\n",
       "\\item '?'\n",
       "\\item '?'\n",
       "\\item '?'\n",
       "\\item '?'\n",
       "\\end{enumerate*}\n"
      ],
      "text/markdown": [
       "1. '?'\n",
       "2. '?'\n",
       "3. '?'\n",
       "4. '?'\n",
       "5. '?'\n",
       "6. '?'\n",
       "7. '?'\n",
       "8. '?'\n",
       "9. '?'\n",
       "10. '?'\n",
       "11. '?'\n",
       "12. '?'\n",
       "13. '?'\n",
       "14. '?'\n",
       "15. '?'\n",
       "16. '?'\n",
       "\n",
       "\n"
      ],
      "text/plain": [
       " [1] \"?\" \"?\" \"?\" \"?\" \"?\" \"?\" \"?\" \"?\" \"?\" \"?\" \"?\" \"?\" \"?\" \"?\" \"?\" \"?\""
      ]
     },
     "metadata": {},
     "output_type": "display_data"
    }
   ],
   "source": [
    "col = 7\n",
    "cancer_data[cancer_data[col] == '?', col] "
   ]
  },
  {
   "cell_type": "code",
   "execution_count": 9,
   "metadata": {},
   "outputs": [
    {
     "name": "stderr",
     "output_type": "stream",
     "text": [
      "Warning message in mean.default(cancer_data[cancer_data[col] != \"?\", col]):\n",
      "“argument is not numeric or logical: returning NA”\n"
     ]
    },
    {
     "data": {
      "text/html": [
       "&lt;NA&gt;"
      ],
      "text/latex": [
       "<NA>"
      ],
      "text/markdown": [
       "&lt;NA&gt;"
      ],
      "text/plain": [
       "[1] NA"
      ]
     },
     "metadata": {},
     "output_type": "display_data"
    }
   ],
   "source": [
    "mean(cancer_data[cancer_data[col] != '?', col])"
   ]
  },
  {
   "cell_type": "code",
   "execution_count": 10,
   "metadata": {},
   "outputs": [
    {
     "name": "stderr",
     "output_type": "stream",
     "text": [
      "also installing the dependencies ‘generics’, ‘rlang’, ‘tidyselect’, ‘vctrs’\n",
      "\n",
      "\n"
     ]
    },
    {
     "name": "stdout",
     "output_type": "stream",
     "text": [
      "\n",
      "  There is a binary version available but the source version is later:\n",
      "      binary source needs_compilation\n",
      "rlang  0.4.6  0.4.7              TRUE\n",
      "\n",
      "\n",
      "The downloaded binary packages are in\n",
      "\t/var/folders/cd/m63ntwzx2vj_h6cg2qfkvt480000gn/T//RtmpaNSWc5/downloaded_packages\n"
     ]
    },
    {
     "name": "stderr",
     "output_type": "stream",
     "text": [
      "installing the source package ‘rlang’\n",
      "\n",
      "\n"
     ]
    }
   ],
   "source": [
    "install.packages('dplyr')"
   ]
  },
  {
   "cell_type": "code",
   "execution_count": 11,
   "metadata": {},
   "outputs": [
    {
     "name": "stderr",
     "output_type": "stream",
     "text": [
      "Warning message:\n",
      "“package ‘dplyr’ was built under R version 4.0.1”\n"
     ]
    },
    {
     "ename": "ERROR",
     "evalue": "Error: package or namespace load failed for ‘dplyr’ in loadNamespace(i, c(lib.loc, .libPaths()), versionCheck = vI[[i]]):\n namespace ‘rlang’ 0.4.5 is already loaded, but >= 0.4.6 is required\n",
     "output_type": "error",
     "traceback": [
      "Error: package or namespace load failed for ‘dplyr’ in loadNamespace(i, c(lib.loc, .libPaths()), versionCheck = vI[[i]]):\n namespace ‘rlang’ 0.4.5 is already loaded, but >= 0.4.6 is required\nTraceback:\n",
      "1. library(dplyr)",
      "2. tryCatch({\n .     attr(package, \"LibPath\") <- which.lib.loc\n .     ns <- loadNamespace(package, lib.loc)\n .     env <- attachNamespace(ns, pos = pos, deps, exclude, include.only)\n . }, error = function(e) {\n .     P <- if (!is.null(cc <- conditionCall(e))) \n .         paste(\" in\", deparse(cc)[1L])\n .     else \"\"\n .     msg <- gettextf(\"package or namespace load failed for %s%s:\\n %s\", \n .         sQuote(package), P, conditionMessage(e))\n .     if (logical.return) \n .         message(paste(\"Error:\", msg), domain = NA)\n .     else stop(msg, call. = FALSE, domain = NA)\n . })",
      "3. tryCatchList(expr, classes, parentenv, handlers)",
      "4. tryCatchOne(expr, names, parentenv, handlers[[1L]])",
      "5. value[[3L]](cond)",
      "6. stop(msg, call. = FALSE, domain = NA)"
     ]
    }
   ],
   "source": [
    "# Run it using\n",
    "library(dplyr)"
   ]
  },
  {
   "cell_type": "code",
   "execution_count": 18,
   "metadata": {},
   "outputs": [
    {
     "ename": "ERROR",
     "evalue": "Error in filter(cancer_data, Class == 1): objeto 'Class' no encontrado\n",
     "output_type": "error",
     "traceback": [
      "Error in filter(cancer_data, Class == 1): objeto 'Class' no encontrado\nTraceback:\n",
      "1. filter(cancer_data, Class == 1)"
     ]
    }
   ],
   "source": [
    "filter(cancer_data, Class == 1)"
   ]
  },
  {
   "cell_type": "code",
   "execution_count": 19,
   "metadata": {},
   "outputs": [
    {
     "data": {
      "text/html": [
       "\n",
       "<table width=\"100%\" summary=\"page for filter {stats}\"><tr><td>filter {stats}</td><td style=\"text-align: right;\">R Documentation</td></tr></table>\n",
       "\n",
       "<h2>Linear Filtering on a Time Series</h2>\n",
       "\n",
       "<h3>Description</h3>\n",
       "\n",
       "<p>Applies linear filtering to a univariate time series or to each series\n",
       "separately of a multivariate time series.\n",
       "</p>\n",
       "\n",
       "\n",
       "<h3>Usage</h3>\n",
       "\n",
       "<pre>\n",
       "filter(x, filter, method = c(\"convolution\", \"recursive\"),\n",
       "       sides = 2, circular = FALSE, init)\n",
       "</pre>\n",
       "\n",
       "\n",
       "<h3>Arguments</h3>\n",
       "\n",
       "<table summary=\"R argblock\">\n",
       "<tr valign=\"top\"><td><code>x</code></td>\n",
       "<td>\n",
       "<p>a univariate or multivariate time series.</p>\n",
       "</td></tr>\n",
       "<tr valign=\"top\"><td><code>filter</code></td>\n",
       "<td>\n",
       "<p>a vector of filter coefficients in reverse time order\n",
       "(as for AR or MA coefficients).</p>\n",
       "</td></tr>\n",
       "<tr valign=\"top\"><td><code>method</code></td>\n",
       "<td>\n",
       "<p>Either <code>\"convolution\"</code> or <code>\"recursive\"</code> (and\n",
       "can be abbreviated). If <code>\"convolution\"</code> a moving average is\n",
       "used: if <code>\"recursive\"</code> an autoregression is used.</p>\n",
       "</td></tr>\n",
       "<tr valign=\"top\"><td><code>sides</code></td>\n",
       "<td>\n",
       "<p>for convolution filters only. If <code>sides = 1</code> the\n",
       "filter coefficients are for past values only; if <code>sides = 2</code>\n",
       "they are centred around lag 0.  In this case the length of the\n",
       "filter should be odd, but if it is even, more of the filter\n",
       "is forward in time than backward.</p>\n",
       "</td></tr>\n",
       "<tr valign=\"top\"><td><code>circular</code></td>\n",
       "<td>\n",
       "<p>for convolution filters only.  If <code>TRUE</code>, wrap\n",
       "the filter around the ends of the series, otherwise assume\n",
       "external values are missing (<code>NA</code>).</p>\n",
       "</td></tr>\n",
       "<tr valign=\"top\"><td><code>init</code></td>\n",
       "<td>\n",
       "<p>for recursive filters only. Specifies the initial values\n",
       "of the time series just prior to the start value, in reverse\n",
       "time order. The default is a set of zeros.</p>\n",
       "</td></tr>\n",
       "</table>\n",
       "\n",
       "\n",
       "<h3>Details</h3>\n",
       "\n",
       "<p>Missing values are allowed in <code>x</code> but not in <code>filter</code>\n",
       "(where they would lead to missing values everywhere in the output).\n",
       "</p>\n",
       "<p>Note that there is an implied coefficient 1 at lag 0 in the\n",
       "recursive filter, which gives\n",
       "</p>\n",
       "<p style=\"text-align: center;\"><i>y[i] =\n",
       "      x[i] + f[1]*y[i-1] + &hellip; + f[p]*y[i-p]</i></p>\n",
       "\n",
       "<p>No check is made to see if recursive filter is invertible:\n",
       "the output may diverge if it is not.\n",
       "</p>\n",
       "<p>The convolution filter is\n",
       "</p>\n",
       "<p style=\"text-align: center;\"><i>y[i] = f[1]*x[i+o] + &hellip; + f[p]*x[i+o-(p-1)]</i></p>\n",
       "\n",
       "<p>where <code>o</code> is the offset: see <code>sides</code> for how it is determined.\n",
       "</p>\n",
       "\n",
       "\n",
       "<h3>Value</h3>\n",
       "\n",
       "<p>A time series object.\n",
       "</p>\n",
       "\n",
       "\n",
       "<h3>Note</h3>\n",
       "\n",
       "<p><code>convolve(, type = \"filter\")</code> uses the FFT for computations\n",
       "and so <em>may</em> be faster for long filters on univariate series,\n",
       "but it does not return a time series (and so the  time alignment is\n",
       "unclear), nor does it handle missing values.  <code>filter</code> is\n",
       "faster for a filter of length 100 on a series of length 1000,\n",
       "for example.\n",
       "</p>\n",
       "\n",
       "\n",
       "<h3>See Also</h3>\n",
       "\n",
       "<p><code>convolve</code>, <code>arima.sim</code>\n",
       "</p>\n",
       "\n",
       "\n",
       "<h3>Examples</h3>\n",
       "\n",
       "<pre>\n",
       "x &lt;- 1:100\n",
       "filter(x, rep(1, 3))\n",
       "filter(x, rep(1, 3), sides = 1)\n",
       "filter(x, rep(1, 3), sides = 1, circular = TRUE)\n",
       "\n",
       "filter(presidents, rep(1, 3))\n",
       "</pre>\n",
       "\n",
       "<hr /><div style=\"text-align: center;\">[Package <em>stats</em> version 4.0.0 ]</div>"
      ],
      "text/latex": [
       "\\inputencoding{utf8}\n",
       "\\HeaderA{filter}{Linear Filtering on a Time Series}{filter}\n",
       "\\keyword{ts}{filter}\n",
       "%\n",
       "\\begin{Description}\\relax\n",
       "Applies linear filtering to a univariate time series or to each series\n",
       "separately of a multivariate time series.\n",
       "\\end{Description}\n",
       "%\n",
       "\\begin{Usage}\n",
       "\\begin{verbatim}\n",
       "filter(x, filter, method = c(\"convolution\", \"recursive\"),\n",
       "       sides = 2, circular = FALSE, init)\n",
       "\\end{verbatim}\n",
       "\\end{Usage}\n",
       "%\n",
       "\\begin{Arguments}\n",
       "\\begin{ldescription}\n",
       "\\item[\\code{x}] a univariate or multivariate time series.\n",
       "\n",
       "\\item[\\code{filter}] a vector of filter coefficients in reverse time order\n",
       "(as for AR or MA coefficients).\n",
       "\n",
       "\\item[\\code{method}] Either \\code{\"convolution\"} or \\code{\"recursive\"} (and\n",
       "can be abbreviated). If \\code{\"convolution\"} a moving average is\n",
       "used: if \\code{\"recursive\"} an autoregression is used.\n",
       "\n",
       "\\item[\\code{sides}] for convolution filters only. If \\code{sides = 1} the\n",
       "filter coefficients are for past values only; if \\code{sides = 2}\n",
       "they are centred around lag 0.  In this case the length of the\n",
       "filter should be odd, but if it is even, more of the filter\n",
       "is forward in time than backward.\n",
       "\n",
       "\\item[\\code{circular}] for convolution filters only.  If \\code{TRUE}, wrap\n",
       "the filter around the ends of the series, otherwise assume\n",
       "external values are missing (\\code{NA}).\n",
       "\n",
       "\\item[\\code{init}] for recursive filters only. Specifies the initial values\n",
       "of the time series just prior to the start value, in reverse\n",
       "time order. The default is a set of zeros.\n",
       "\\end{ldescription}\n",
       "\\end{Arguments}\n",
       "%\n",
       "\\begin{Details}\\relax\n",
       "Missing values are allowed in \\code{x} but not in \\code{filter}\n",
       "(where they would lead to missing values everywhere in the output).\n",
       "\n",
       "Note that there is an implied coefficient 1 at lag 0 in the\n",
       "recursive filter, which gives\n",
       "\\deqn{y_i = x_i + f_1y_{i-1} + \\cdots + f_py_{i-p}}{}\n",
       "No check is made to see if recursive filter is invertible:\n",
       "the output may diverge if it is not.\n",
       "\n",
       "The convolution filter is\n",
       "\\deqn{y_i = f_1x_{i+o} + \\cdots + f_px_{i+o-(p-1)}}{}\n",
       "\n",
       "where \\code{o} is the offset: see \\code{sides} for how it is determined.\n",
       "\\end{Details}\n",
       "%\n",
       "\\begin{Value}\n",
       "A time series object.\n",
       "\\end{Value}\n",
       "%\n",
       "\\begin{Note}\\relax\n",
       "\\code{\\LinkA{convolve}{convolve}(, type = \"filter\")} uses the FFT for computations\n",
       "and so \\emph{may} be faster for long filters on univariate series,\n",
       "but it does not return a time series (and so the  time alignment is\n",
       "unclear), nor does it handle missing values.  \\code{filter} is\n",
       "faster for a filter of length 100 on a series of length 1000,\n",
       "for example.\n",
       "\\end{Note}\n",
       "%\n",
       "\\begin{SeeAlso}\\relax\n",
       "\\code{\\LinkA{convolve}{convolve}}, \\code{\\LinkA{arima.sim}{arima.sim}}\n",
       "\\end{SeeAlso}\n",
       "%\n",
       "\\begin{Examples}\n",
       "\\begin{ExampleCode}\n",
       "x <- 1:100\n",
       "filter(x, rep(1, 3))\n",
       "filter(x, rep(1, 3), sides = 1)\n",
       "filter(x, rep(1, 3), sides = 1, circular = TRUE)\n",
       "\n",
       "filter(presidents, rep(1, 3))\n",
       "\\end{ExampleCode}\n",
       "\\end{Examples}"
      ],
      "text/plain": [
       "filter                  package:stats                  R Documentation\n",
       "\n",
       "_\bL_\bi_\bn_\be_\ba_\br _\bF_\bi_\bl_\bt_\be_\br_\bi_\bn_\bg _\bo_\bn _\ba _\bT_\bi_\bm_\be _\bS_\be_\br_\bi_\be_\bs\n",
       "\n",
       "_\bD_\be_\bs_\bc_\br_\bi_\bp_\bt_\bi_\bo_\bn:\n",
       "\n",
       "     Applies linear filtering to a univariate time series or to each\n",
       "     series separately of a multivariate time series.\n",
       "\n",
       "_\bU_\bs_\ba_\bg_\be:\n",
       "\n",
       "     filter(x, filter, method = c(\"convolution\", \"recursive\"),\n",
       "            sides = 2, circular = FALSE, init)\n",
       "     \n",
       "_\bA_\br_\bg_\bu_\bm_\be_\bn_\bt_\bs:\n",
       "\n",
       "       x: a univariate or multivariate time series.\n",
       "\n",
       "  filter: a vector of filter coefficients in reverse time order (as for\n",
       "          AR or MA coefficients).\n",
       "\n",
       "  method: Either ‘\"convolution\"’ or ‘\"recursive\"’ (and can be\n",
       "          abbreviated). If ‘\"convolution\"’ a moving average is used: if\n",
       "          ‘\"recursive\"’ an autoregression is used.\n",
       "\n",
       "   sides: for convolution filters only. If ‘sides = 1’ the filter\n",
       "          coefficients are for past values only; if ‘sides = 2’ they\n",
       "          are centred around lag 0.  In this case the length of the\n",
       "          filter should be odd, but if it is even, more of the filter\n",
       "          is forward in time than backward.\n",
       "\n",
       "circular: for convolution filters only.  If ‘TRUE’, wrap the filter\n",
       "          around the ends of the series, otherwise assume external\n",
       "          values are missing (‘NA’).\n",
       "\n",
       "    init: for recursive filters only. Specifies the initial values of\n",
       "          the time series just prior to the start value, in reverse\n",
       "          time order. The default is a set of zeros.\n",
       "\n",
       "_\bD_\be_\bt_\ba_\bi_\bl_\bs:\n",
       "\n",
       "     Missing values are allowed in ‘x’ but not in ‘filter’ (where they\n",
       "     would lead to missing values everywhere in the output).\n",
       "\n",
       "     Note that there is an implied coefficient 1 at lag 0 in the\n",
       "     recursive filter, which gives\n",
       "\n",
       "             y[i] =      x[i] + f[1]*y[i-1] + ... + f[p]*y[i-p]         \n",
       "     \n",
       "     No check is made to see if recursive filter is invertible: the\n",
       "     output may diverge if it is not.\n",
       "\n",
       "     The convolution filter is\n",
       "\n",
       "                y[i] = f[1]*x[i+o] + ... + f[p]*x[i+o-(p-1)]            \n",
       "     \n",
       "     where ‘o’ is the offset: see ‘sides’ for how it is determined.\n",
       "\n",
       "_\bV_\ba_\bl_\bu_\be:\n",
       "\n",
       "     A time series object.\n",
       "\n",
       "_\bN_\bo_\bt_\be:\n",
       "\n",
       "     ‘convolve(, type = \"filter\")’ uses the FFT for computations and so\n",
       "     _may_ be faster for long filters on univariate series, but it does\n",
       "     not return a time series (and so the time alignment is unclear),\n",
       "     nor does it handle missing values.  ‘filter’ is faster for a\n",
       "     filter of length 100 on a series of length 1000, for example.\n",
       "\n",
       "_\bS_\be_\be _\bA_\bl_\bs_\bo:\n",
       "\n",
       "     ‘convolve’, ‘arima.sim’\n",
       "\n",
       "_\bE_\bx_\ba_\bm_\bp_\bl_\be_\bs:\n",
       "\n",
       "     x <- 1:100\n",
       "     filter(x, rep(1, 3))\n",
       "     filter(x, rep(1, 3), sides = 1)\n",
       "     filter(x, rep(1, 3), sides = 1, circular = TRUE)\n",
       "     \n",
       "     filter(presidents, rep(1, 3))\n",
       "     "
      ]
     },
     "metadata": {},
     "output_type": "display_data"
    }
   ],
   "source": [
    "help(filter)"
   ]
  },
  {
   "cell_type": "code",
   "execution_count": null,
   "metadata": {},
   "outputs": [],
   "source": []
  },
  {
   "cell_type": "code",
   "execution_count": null,
   "metadata": {},
   "outputs": [],
   "source": []
  },
  {
   "cell_type": "code",
   "execution_count": null,
   "metadata": {},
   "outputs": [],
   "source": []
  },
  {
   "cell_type": "code",
   "execution_count": 20,
   "metadata": {},
   "outputs": [
    {
     "name": "stdout",
     "output_type": "stream",
     "text": [
      "\n",
      "The downloaded binary packages are in\n",
      "\t/var/folders/cd/m63ntwzx2vj_h6cg2qfkvt480000gn/T//RtmpaNSWc5/downloaded_packages\n"
     ]
    }
   ],
   "source": [
    "install.packages('nycflights13',repos = 'http://cran.us.r-project.org')"
   ]
  },
  {
   "cell_type": "code",
   "execution_count": 21,
   "metadata": {},
   "outputs": [
    {
     "name": "stderr",
     "output_type": "stream",
     "text": [
      "Warning message:\n",
      "“package ‘nycflights13’ was built under R version 4.0.1”\n"
     ]
    },
    {
     "data": {
      "text/plain": [
       "      year          month             day           dep_time    sched_dep_time\n",
       " Min.   :2013   Min.   : 1.000   Min.   : 1.00   Min.   :   1   Min.   : 106  \n",
       " 1st Qu.:2013   1st Qu.: 4.000   1st Qu.: 8.00   1st Qu.: 907   1st Qu.: 906  \n",
       " Median :2013   Median : 7.000   Median :16.00   Median :1401   Median :1359  \n",
       " Mean   :2013   Mean   : 6.549   Mean   :15.71   Mean   :1349   Mean   :1344  \n",
       " 3rd Qu.:2013   3rd Qu.:10.000   3rd Qu.:23.00   3rd Qu.:1744   3rd Qu.:1729  \n",
       " Max.   :2013   Max.   :12.000   Max.   :31.00   Max.   :2400   Max.   :2359  \n",
       "                                                 NA's   :8255                 \n",
       "   dep_delay          arr_time    sched_arr_time   arr_delay       \n",
       " Min.   : -43.00   Min.   :   1   Min.   :   1   Min.   : -86.000  \n",
       " 1st Qu.:  -5.00   1st Qu.:1104   1st Qu.:1124   1st Qu.: -17.000  \n",
       " Median :  -2.00   Median :1535   Median :1556   Median :  -5.000  \n",
       " Mean   :  12.64   Mean   :1502   Mean   :1536   Mean   :   6.895  \n",
       " 3rd Qu.:  11.00   3rd Qu.:1940   3rd Qu.:1945   3rd Qu.:  14.000  \n",
       " Max.   :1301.00   Max.   :2400   Max.   :2359   Max.   :1272.000  \n",
       " NA's   :8255      NA's   :8713                  NA's   :9430      \n",
       "   carrier              flight       tailnum             origin         \n",
       " Length:336776      Min.   :   1   Length:336776      Length:336776     \n",
       " Class :character   1st Qu.: 553   Class :character   Class :character  \n",
       " Mode  :character   Median :1496   Mode  :character   Mode  :character  \n",
       "                    Mean   :1972                                        \n",
       "                    3rd Qu.:3465                                        \n",
       "                    Max.   :8500                                        \n",
       "                                                                        \n",
       "     dest              air_time        distance         hour      \n",
       " Length:336776      Min.   : 20.0   Min.   :  17   Min.   : 1.00  \n",
       " Class :character   1st Qu.: 82.0   1st Qu.: 502   1st Qu.: 9.00  \n",
       " Mode  :character   Median :129.0   Median : 872   Median :13.00  \n",
       "                    Mean   :150.7   Mean   :1040   Mean   :13.18  \n",
       "                    3rd Qu.:192.0   3rd Qu.:1389   3rd Qu.:17.00  \n",
       "                    Max.   :695.0   Max.   :4983   Max.   :23.00  \n",
       "                    NA's   :9430                                  \n",
       "     minute        time_hour                  \n",
       " Min.   : 0.00   Min.   :2013-01-01 05:00:00  \n",
       " 1st Qu.: 8.00   1st Qu.:2013-04-04 13:00:00  \n",
       " Median :29.00   Median :2013-07-03 10:00:00  \n",
       " Mean   :26.23   Mean   :2013-07-03 05:22:54  \n",
       " 3rd Qu.:44.00   3rd Qu.:2013-10-01 07:00:00  \n",
       " Max.   :59.00   Max.   :2013-12-31 23:00:00  \n",
       "                                              "
      ]
     },
     "metadata": {},
     "output_type": "display_data"
    }
   ],
   "source": [
    "library(nycflights13)\n",
    "summary(flights)"
   ]
  },
  {
   "cell_type": "code",
   "execution_count": 24,
   "metadata": {},
   "outputs": [
    {
     "ename": "ERROR",
     "evalue": "Error in filter(flights, month == 11): objeto 'month' no encontrado\n",
     "output_type": "error",
     "traceback": [
      "Error in filter(flights, month == 11): objeto 'month' no encontrado\nTraceback:\n",
      "1. head(filter(flights, month == 11))",
      "2. filter(flights, month == 11)"
     ]
    }
   ],
   "source": [
    "head(filter(flights,month==11))"
   ]
  },
  {
   "cell_type": "code",
   "execution_count": null,
   "metadata": {},
   "outputs": [],
   "source": []
  },
  {
   "cell_type": "code",
   "execution_count": null,
   "metadata": {},
   "outputs": [],
   "source": []
  },
  {
   "cell_type": "code",
   "execution_count": null,
   "metadata": {},
   "outputs": [],
   "source": []
  },
  {
   "cell_type": "code",
   "execution_count": null,
   "metadata": {},
   "outputs": [],
   "source": []
  }
 ],
 "metadata": {
  "kernelspec": {
   "display_name": "R",
   "language": "R",
   "name": "ir"
  },
  "language_info": {
   "codemirror_mode": "r",
   "file_extension": ".r",
   "mimetype": "text/x-r-source",
   "name": "R",
   "pygments_lexer": "r",
   "version": "4.0.0"
  }
 },
 "nbformat": 4,
 "nbformat_minor": 4
}
