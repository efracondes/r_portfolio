{
 "cells": [
  {
   "cell_type": "markdown",
   "metadata": {},
   "source": [
    "# Breast Cancer \n",
    "\n",
    "Introduction"
   ]
  },
  {
   "cell_type": "markdown",
   "metadata": {},
   "source": [
    "## 1. Data\n",
    "\n",
    "Data description\n",
    "\n",
    "First of all, let's load the data into a DataFrame and print the first five rows so we can take a look at it.\n"
   ]
  },
  {
   "cell_type": "code",
   "execution_count": 1,
   "metadata": {},
   "outputs": [
    {
     "name": "stderr",
     "output_type": "stream",
     "text": [
      "Warning message:\n",
      "“package ‘dplyr’ was built under R version 4.0.1”\n",
      "\n",
      "Attaching package: ‘dplyr’\n",
      "\n",
      "\n",
      "The following objects are masked from ‘package:stats’:\n",
      "\n",
      "    filter, lag\n",
      "\n",
      "\n",
      "The following objects are masked from ‘package:base’:\n",
      "\n",
      "    intersect, setdiff, setequal, union\n",
      "\n",
      "\n"
     ]
    }
   ],
   "source": [
    "library(dplyr)"
   ]
  },
  {
   "cell_type": "code",
   "execution_count": 2,
   "metadata": {},
   "outputs": [
    {
     "data": {
      "text/html": [
       "<table>\n",
       "<caption>A data.frame: 5 × 11</caption>\n",
       "<thead>\n",
       "\t<tr><th></th><th scope=col>sample_id</th><th scope=col>Clump_Thickness</th><th scope=col>Uniformity_of_Cell.Size</th><th scope=col>Uniformity_of_Cell_Shape</th><th scope=col>Marginal_Adhesion</th><th scope=col>Single_Epithelial_Cell_Size</th><th scope=col>Bare_Nuclei</th><th scope=col>Bland_Chromatin</th><th scope=col>Normal_Nucleoli</th><th scope=col>Mitoses</th><th scope=col>Class</th></tr>\n",
       "\t<tr><th></th><th scope=col>&lt;int&gt;</th><th scope=col>&lt;int&gt;</th><th scope=col>&lt;int&gt;</th><th scope=col>&lt;int&gt;</th><th scope=col>&lt;int&gt;</th><th scope=col>&lt;int&gt;</th><th scope=col>&lt;chr&gt;</th><th scope=col>&lt;int&gt;</th><th scope=col>&lt;int&gt;</th><th scope=col>&lt;int&gt;</th><th scope=col>&lt;int&gt;</th></tr>\n",
       "</thead>\n",
       "<tbody>\n",
       "\t<tr><th scope=row>1</th><td>1002945</td><td>5</td><td> 4</td><td> 4</td><td>5</td><td>7</td><td>10</td><td>3</td><td>2</td><td>1</td><td>2</td></tr>\n",
       "\t<tr><th scope=row>2</th><td>1015425</td><td>3</td><td> 1</td><td> 1</td><td>1</td><td>2</td><td>2 </td><td>3</td><td>1</td><td>1</td><td>2</td></tr>\n",
       "\t<tr><th scope=row>3</th><td>1016277</td><td>6</td><td> 8</td><td> 8</td><td>1</td><td>3</td><td>4 </td><td>3</td><td>7</td><td>1</td><td>2</td></tr>\n",
       "\t<tr><th scope=row>4</th><td>1017023</td><td>4</td><td> 1</td><td> 1</td><td>3</td><td>2</td><td>1 </td><td>3</td><td>1</td><td>1</td><td>2</td></tr>\n",
       "\t<tr><th scope=row>5</th><td>1017122</td><td>8</td><td>10</td><td>10</td><td>8</td><td>7</td><td>10</td><td>9</td><td>7</td><td>1</td><td>4</td></tr>\n",
       "</tbody>\n",
       "</table>\n"
      ],
      "text/latex": [
       "A data.frame: 5 × 11\n",
       "\\begin{tabular}{r|lllllllllll}\n",
       "  & sample\\_id & Clump\\_Thickness & Uniformity\\_of\\_Cell.Size & Uniformity\\_of\\_Cell\\_Shape & Marginal\\_Adhesion & Single\\_Epithelial\\_Cell\\_Size & Bare\\_Nuclei & Bland\\_Chromatin & Normal\\_Nucleoli & Mitoses & Class\\\\\n",
       "  & <int> & <int> & <int> & <int> & <int> & <int> & <chr> & <int> & <int> & <int> & <int>\\\\\n",
       "\\hline\n",
       "\t1 & 1002945 & 5 &  4 &  4 & 5 & 7 & 10 & 3 & 2 & 1 & 2\\\\\n",
       "\t2 & 1015425 & 3 &  1 &  1 & 1 & 2 & 2  & 3 & 1 & 1 & 2\\\\\n",
       "\t3 & 1016277 & 6 &  8 &  8 & 1 & 3 & 4  & 3 & 7 & 1 & 2\\\\\n",
       "\t4 & 1017023 & 4 &  1 &  1 & 3 & 2 & 1  & 3 & 1 & 1 & 2\\\\\n",
       "\t5 & 1017122 & 8 & 10 & 10 & 8 & 7 & 10 & 9 & 7 & 1 & 4\\\\\n",
       "\\end{tabular}\n"
      ],
      "text/markdown": [
       "\n",
       "A data.frame: 5 × 11\n",
       "\n",
       "| <!--/--> | sample_id &lt;int&gt; | Clump_Thickness &lt;int&gt; | Uniformity_of_Cell.Size &lt;int&gt; | Uniformity_of_Cell_Shape &lt;int&gt; | Marginal_Adhesion &lt;int&gt; | Single_Epithelial_Cell_Size &lt;int&gt; | Bare_Nuclei &lt;chr&gt; | Bland_Chromatin &lt;int&gt; | Normal_Nucleoli &lt;int&gt; | Mitoses &lt;int&gt; | Class &lt;int&gt; |\n",
       "|---|---|---|---|---|---|---|---|---|---|---|---|\n",
       "| 1 | 1002945 | 5 |  4 |  4 | 5 | 7 | 10 | 3 | 2 | 1 | 2 |\n",
       "| 2 | 1015425 | 3 |  1 |  1 | 1 | 2 | 2  | 3 | 1 | 1 | 2 |\n",
       "| 3 | 1016277 | 6 |  8 |  8 | 1 | 3 | 4  | 3 | 7 | 1 | 2 |\n",
       "| 4 | 1017023 | 4 |  1 |  1 | 3 | 2 | 1  | 3 | 1 | 1 | 2 |\n",
       "| 5 | 1017122 | 8 | 10 | 10 | 8 | 7 | 10 | 9 | 7 | 1 | 4 |\n",
       "\n"
      ],
      "text/plain": [
       "  sample_id Clump_Thickness Uniformity_of_Cell.Size Uniformity_of_Cell_Shape\n",
       "1 1002945   5                4                       4                      \n",
       "2 1015425   3                1                       1                      \n",
       "3 1016277   6                8                       8                      \n",
       "4 1017023   4                1                       1                      \n",
       "5 1017122   8               10                      10                      \n",
       "  Marginal_Adhesion Single_Epithelial_Cell_Size Bare_Nuclei Bland_Chromatin\n",
       "1 5                 7                           10          3              \n",
       "2 1                 2                           2           3              \n",
       "3 1                 3                           4           3              \n",
       "4 3                 2                           1           3              \n",
       "5 8                 7                           10          9              \n",
       "  Normal_Nucleoli Mitoses Class\n",
       "1 2               1       2    \n",
       "2 1               1       2    \n",
       "3 7               1       2    \n",
       "4 1               1       2    \n",
       "5 7               1       4    "
      ]
     },
     "metadata": {},
     "output_type": "display_data"
    }
   ],
   "source": [
    "attribute_names <- c('sample_id', \n",
    "                     'Clump_Thickness', \n",
    "                     'Uniformity_of_Cell Size', \n",
    "                     'Uniformity_of_Cell_Shape', \n",
    "                     'Marginal_Adhesion', \n",
    "                     'Single_Epithelial_Cell_Size', \n",
    "                     'Bare_Nuclei',\n",
    "                     'Bland_Chromatin',\n",
    "                     'Normal_Nucleoli',\n",
    "                     'Mitoses',\n",
    "                     'Class')  \n",
    "\n",
    "cancer_data <- read.csv('cancer.csv', col.names = attribute_names)\n",
    "head(cancer_data, 5)"
   ]
  },
  {
   "cell_type": "markdown",
   "metadata": {},
   "source": [
    "### 1.1 Cleaning the Data\n",
    "\n",
    "Before trying to apply any ML algorithm or mathematical artifact, we must clean the data. The data description tells us that the missing values in the dataset are indicated with the character '?'. "
   ]
  },
  {
   "cell_type": "code",
   "execution_count": 3,
   "metadata": {},
   "outputs": [
    {
     "data": {
      "text/html": [
       "<style>\n",
       ".list-inline {list-style: none; margin:0; padding: 0}\n",
       ".list-inline>li {display: inline-block}\n",
       ".list-inline>li:not(:last-child)::after {content: \"\\00b7\"; padding: 0 .5ex}\n",
       "</style>\n",
       "<ol class=list-inline><li>'?'</li><li>'?'</li><li>'?'</li><li>'?'</li><li>'?'</li><li>'?'</li><li>'?'</li><li>'?'</li><li>'?'</li><li>'?'</li><li>'?'</li><li>'?'</li><li>'?'</li><li>'?'</li><li>'?'</li><li>'?'</li></ol>\n"
      ],
      "text/latex": [
       "\\begin{enumerate*}\n",
       "\\item '?'\n",
       "\\item '?'\n",
       "\\item '?'\n",
       "\\item '?'\n",
       "\\item '?'\n",
       "\\item '?'\n",
       "\\item '?'\n",
       "\\item '?'\n",
       "\\item '?'\n",
       "\\item '?'\n",
       "\\item '?'\n",
       "\\item '?'\n",
       "\\item '?'\n",
       "\\item '?'\n",
       "\\item '?'\n",
       "\\item '?'\n",
       "\\end{enumerate*}\n"
      ],
      "text/markdown": [
       "1. '?'\n",
       "2. '?'\n",
       "3. '?'\n",
       "4. '?'\n",
       "5. '?'\n",
       "6. '?'\n",
       "7. '?'\n",
       "8. '?'\n",
       "9. '?'\n",
       "10. '?'\n",
       "11. '?'\n",
       "12. '?'\n",
       "13. '?'\n",
       "14. '?'\n",
       "15. '?'\n",
       "16. '?'\n",
       "\n",
       "\n"
      ],
      "text/plain": [
       " [1] \"?\" \"?\" \"?\" \"?\" \"?\" \"?\" \"?\" \"?\" \"?\" \"?\" \"?\" \"?\" \"?\" \"?\" \"?\" \"?\""
      ]
     },
     "metadata": {},
     "output_type": "display_data"
    }
   ],
   "source": [
    "missing_val_spots <- cancer_data == '?'\n",
    "cancer_data[missing_val_spots]"
   ]
  },
  {
   "cell_type": "markdown",
   "metadata": {},
   "source": [
    "As we can see, there are 16 missing values. In the book The Data Science Design Manual page 77, Skiena provides several method to deal with missing values, from these options we'll just pick one. \n",
    "\n",
    "The method that we'll follow consist in replacing the missing values by the mean value of the attribute to which it belongs. So, let's apply this process to the missing values in every column.   "
   ]
  },
  {
   "cell_type": "code",
   "execution_count": 4,
   "metadata": {},
   "outputs": [],
   "source": [
    "for (col in 1:ncol(cancer_data)){\n",
    "    if ('?' %in% cancer_data[, col]){\n",
    "        mean_value <- mean(as.numeric(cancer_data[cancer_data[col] != '?', col]))    \n",
    "        cancer_data[cancer_data[col] == '?', col] <- mean_value\n",
    "        # Converts the column values into numerics\n",
    "        cancer_data[, col] <- as.numeric(cancer_data[, col])\n",
    "    }    \n",
    "}"
   ]
  },
  {
   "cell_type": "code",
   "execution_count": 5,
   "metadata": {},
   "outputs": [
    {
     "data": {
      "text/html": [
       "<style>\n",
       ".list-inline {list-style: none; margin:0; padding: 0}\n",
       ".list-inline>li {display: inline-block}\n",
       ".list-inline>li:not(:last-child)::after {content: \"\\00b7\"; padding: 0 .5ex}\n",
       "</style>\n",
       "<ol class=list-inline><li>3.54838709677419</li><li>3.54838709677419</li><li>3.54838709677419</li><li>3.54838709677419</li><li>3.54838709677419</li><li>3.54838709677419</li><li>3.54838709677419</li><li>3.54838709677419</li><li>3.54838709677419</li><li>3.54838709677419</li><li>3.54838709677419</li><li>3.54838709677419</li><li>3.54838709677419</li><li>3.54838709677419</li><li>3.54838709677419</li><li>3.54838709677419</li></ol>\n"
      ],
      "text/latex": [
       "\\begin{enumerate*}\n",
       "\\item 3.54838709677419\n",
       "\\item 3.54838709677419\n",
       "\\item 3.54838709677419\n",
       "\\item 3.54838709677419\n",
       "\\item 3.54838709677419\n",
       "\\item 3.54838709677419\n",
       "\\item 3.54838709677419\n",
       "\\item 3.54838709677419\n",
       "\\item 3.54838709677419\n",
       "\\item 3.54838709677419\n",
       "\\item 3.54838709677419\n",
       "\\item 3.54838709677419\n",
       "\\item 3.54838709677419\n",
       "\\item 3.54838709677419\n",
       "\\item 3.54838709677419\n",
       "\\item 3.54838709677419\n",
       "\\end{enumerate*}\n"
      ],
      "text/markdown": [
       "1. 3.54838709677419\n",
       "2. 3.54838709677419\n",
       "3. 3.54838709677419\n",
       "4. 3.54838709677419\n",
       "5. 3.54838709677419\n",
       "6. 3.54838709677419\n",
       "7. 3.54838709677419\n",
       "8. 3.54838709677419\n",
       "9. 3.54838709677419\n",
       "10. 3.54838709677419\n",
       "11. 3.54838709677419\n",
       "12. 3.54838709677419\n",
       "13. 3.54838709677419\n",
       "14. 3.54838709677419\n",
       "15. 3.54838709677419\n",
       "16. 3.54838709677419\n",
       "\n",
       "\n"
      ],
      "text/plain": [
       " [1] 3.548387 3.548387 3.548387 3.548387 3.548387 3.548387 3.548387 3.548387\n",
       " [9] 3.548387 3.548387 3.548387 3.548387 3.548387 3.548387 3.548387 3.548387"
      ]
     },
     "metadata": {},
     "output_type": "display_data"
    }
   ],
   "source": [
    "cancer_data[missing_val_spots]"
   ]
  },
  {
   "cell_type": "code",
   "execution_count": null,
   "metadata": {},
   "outputs": [],
   "source": []
  }
 ],
 "metadata": {
  "kernelspec": {
   "display_name": "R",
   "language": "R",
   "name": "ir"
  },
  "language_info": {
   "codemirror_mode": "r",
   "file_extension": ".r",
   "mimetype": "text/x-r-source",
   "name": "R",
   "pygments_lexer": "r",
   "version": "4.0.0"
  }
 },
 "nbformat": 4,
 "nbformat_minor": 4
}
